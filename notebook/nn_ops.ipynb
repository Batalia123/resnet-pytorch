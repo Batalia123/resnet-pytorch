{
 "cells": [
  {
   "cell_type": "code",
   "execution_count": null,
   "id": "bf94f5a5",
   "metadata": {
    "lines_to_next_cell": 1
   },
   "outputs": [],
   "source": [
    "from torch import nn"
   ]
  },
  {
   "cell_type": "code",
   "execution_count": null,
   "id": "9f706f95",
   "metadata": {
    "lines_to_next_cell": 1
   },
   "outputs": [],
   "source": [
    "def conv3x3(in_planes, out_planes, stride=1, bias=False):\n",
    "  \"\"\"3x3 convolution with padding\"\"\"\n",
    "  return nn.Conv2d(in_planes, out_planes, kernel_size=3, stride=stride,\n",
    "                   padding=1, bias=bias)"
   ]
  },
  {
   "cell_type": "code",
   "execution_count": null,
   "id": "26938c61",
   "metadata": {
    "lines_to_next_cell": 1
   },
   "outputs": [],
   "source": [
    "def variable_init(m, neg_slope=0.0):\n",
    "  if isinstance(m, (nn.Linear, nn.Conv2d)):\n",
    "    nn.init.kaiming_uniform_(m.weight.data, neg_slope)\n",
    "    if m.bias is not None:\n",
    "      m.bias.data.zero_()\n",
    "  elif isinstance(m, nn.BatchNorm2d):\n",
    "    if m.weight is not None:\n",
    "      m.weight.data.fill_(1)\n",
    "    if m.bias is not None:\n",
    "      m.bias.data.zero_()\n",
    "    m.running_mean.zero_()\n",
    "    m.running_var.zero_()"
   ]
  },
  {
   "cell_type": "code",
   "execution_count": null,
   "id": "11657f99",
   "metadata": {},
   "outputs": [],
   "source": [
    "class PlusMinusOne(object):\n",
    "  \"\"\" Scales values that are between [0, 1] into [-1, 1]. \"\"\"\n",
    "  \n",
    "  def __init__(self):\n",
    "    pass\n",
    "\n",
    "  def __call__(self, x):\n",
    "    x = 2.0 * x - 1.0\n",
    "    return x    "
   ]
  }
 ],
 "metadata": {
  "jupytext": {
   "cell_metadata_filter": "-all",
   "main_language": "python",
   "notebook_metadata_filter": "-all"
  }
 },
 "nbformat": 4,
 "nbformat_minor": 5
}
