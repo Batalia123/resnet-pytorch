{
 "cells": [
  {
   "cell_type": "code",
   "execution_count": null,
   "id": "5bed9fc4",
   "metadata": {
    "lines_to_next_cell": 1
   },
   "outputs": [],
   "source": [
    "from torch.utils.data import DataLoader\n",
    "import torchvision\n",
    "import torchvision.transforms as transforms"
   ]
  },
  {
   "cell_type": "code",
   "execution_count": null,
   "id": "df0e1c84",
   "metadata": {},
   "outputs": [],
   "source": [
    "def create_loaders(args):\n",
    "  if args.dataset == 'cifar10':\n",
    "    n_classes = 10\n",
    "    norm_mean, norm_std = (0.4914, 0.4822, 0.4465), (0.2023, 0.1994, 0.2010)\n",
    "    dset = torchvision.datasets.CIFAR10\n",
    "  elif args.dataset == 'cifar100':\n",
    "    n_classes = 100\n",
    "    norm_mean, norm_std = (0.5071, 0.4867, 0.4408), (0.2675, 0.2565, 0.2761)\n",
    "    dset = torchvision.datasets.CIFAR100\n",
    "    \n",
    "  train_transform = transforms.Compose([\n",
    "    transforms.RandomCrop(32, padding=4),\n",
    "    transforms.RandomHorizontalFlip(),\n",
    "    transforms.ToTensor(),\n",
    "    transforms.Normalize(norm_mean, norm_std)])\n",
    "  train_set = dset(root=args.data_dir, train=True, download=True, transform=train_transform)\n",
    "  train_loader = DataLoader(\n",
    "    train_set, batch_size=args.batch_size, pin_memory=True, shuffle=True, num_workers=8)\n",
    "\n",
    "  test_transform = transforms.Compose([\n",
    "    transforms.ToTensor(),\n",
    "    transforms.Normalize(norm_mean, norm_std)])\n",
    "  test_set = dset(root=args.data_dir, train=False, download=True, transform=test_transform)\n",
    "  test_loader = DataLoader(\n",
    "    test_set, batch_size=args.test_batch_size, pin_memory=True, shuffle=False, num_workers=2)\n",
    "\n",
    "  return train_loader, test_loader, n_classes"
   ]
  }
 ],
 "metadata": {
  "jupytext": {
   "cell_metadata_filter": "-all",
   "main_language": "python",
   "notebook_metadata_filter": "-all"
  }
 },
 "nbformat": 4,
 "nbformat_minor": 5
}
