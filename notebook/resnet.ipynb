{
 "cells": [
  {
   "cell_type": "code",
   "execution_count": null,
   "id": "0ba5815e",
   "metadata": {
    "lines_to_next_cell": 1
   },
   "outputs": [],
   "source": [
    "import torch\n",
    "import torch.nn as nn\n",
    "import nn_ops"
   ]
  },
  {
   "cell_type": "code",
   "execution_count": null,
   "id": "63b92bd3",
   "metadata": {
    "lines_to_next_cell": 1
   },
   "outputs": [],
   "source": [
    "def _down_sample(x):\n",
    "  return nn.functional.avg_pool2d(x, 2, 2)"
   ]
  },
  {
   "cell_type": "code",
   "execution_count": null,
   "id": "385a6603",
   "metadata": {
    "lines_to_next_cell": 1
   },
   "outputs": [],
   "source": [
    "def _increase_planes(x, n_out_planes):\n",
    "  n_samples, n_planes, spatial_size = x.size()[:-1]\n",
    "  x_zeros = torch.zeros(\n",
    "    n_samples, n_out_planes - n_planes, spatial_size, spatial_size, \n",
    "    dtype=x.dtype, device=x.device)\n",
    "  return torch.cat([x, x_zeros], 1)"
   ]
  },
  {
   "cell_type": "code",
   "execution_count": null,
   "id": "2a0af669",
   "metadata": {
    "lines_to_next_cell": 1
   },
   "outputs": [],
   "source": [
    "def _downsample_and_increase_planes(x, n_out_planes):\n",
    "  x = _down_sample(x)\n",
    "  x = _increase_planes(x, n_out_planes)\n",
    "  return x"
   ]
  },
  {
   "cell_type": "code",
   "execution_count": null,
   "id": "977af169",
   "metadata": {
    "lines_to_next_cell": 1
   },
   "outputs": [],
   "source": [
    "def identity_func(n_in_planes, n_out_planes, stride):\n",
    "  identity = lambda x: x\n",
    "  if stride == 2 and n_in_planes != n_out_planes:\n",
    "    identity = lambda x: _downsample_and_increase_planes(x, n_out_planes)\n",
    "  elif stride == 2:\n",
    "    identity = _down_sample\n",
    "  elif n_in_planes != n_out_planes:\n",
    "    identity = lambda x: _increase_planes(x, n_out_planes)\n",
    "  return identity"
   ]
  },
  {
   "cell_type": "code",
   "execution_count": null,
   "id": "fe4e6b00",
   "metadata": {
    "lines_to_next_cell": 1
   },
   "outputs": [],
   "source": [
    "class BasicBlock(nn.Module):\n",
    "\n",
    "  expansion = 1\n",
    "\n",
    "  def __init__(self, n_in_planes, n_out_planes, stride=1):\n",
    "    super().__init__()\n",
    "    assert stride == 1 or stride == 2\n",
    "\n",
    "    self.block = nn.Sequential(\n",
    "      nn_ops.conv3x3(n_in_planes, n_out_planes, stride),\n",
    "      nn.BatchNorm2d(n_out_planes),\n",
    "      nn.ReLU(inplace=True),\n",
    "      nn_ops.conv3x3(n_out_planes, n_out_planes),\n",
    "      nn.BatchNorm2d(n_out_planes)\n",
    "    )\n",
    "\n",
    "    self.identity = identity_func(n_in_planes, n_out_planes, stride)\n",
    "\n",
    "  def forward(self, x):\n",
    "    out = self.block(x)\n",
    "    identity = self.identity(x)\n",
    "\n",
    "    out += identity\n",
    "    out = nn.functional.relu(out)\n",
    "    return out"
   ]
  },
  {
   "cell_type": "code",
   "execution_count": null,
   "id": "d05a4d59",
   "metadata": {
    "lines_to_next_cell": 1
   },
   "outputs": [],
   "source": [
    "class Bottleneck(nn.Module):\n",
    "\n",
    "  expansion = 4\n",
    "\n",
    "  def __init__(self, n_in_planes, n_out_planes, stride=1):\n",
    "    super().__init__()\n",
    "    \n",
    "    self.conv1 = nn.Conv2d(n_in_planes, n_out_planes, kernel_size=1)\n",
    "    self.bn1 = nn.BatchNorm2d(n_out_planes)\n",
    "\n",
    "    self.conv2 = nn_ops.conv3x3(n_out_planes, n_out_planes, stride)\n",
    "    self.bn2 = nn.BatchNorm2d(n_out_planes)\n",
    "\n",
    "    self.conv3 = nn.Conv2d(n_out_planes, n_out_planes * 4, kernel_size=1)\n",
    "    self.bn3 = nn.BatchNorm2d(n_out_planes * 4)\n",
    "\n",
    "    self.relu = nn.ReLU(inplace=True)\n",
    "    self.identity = identity_func(n_in_planes, n_out_planes * 4, stride)\n",
    "\n",
    "  def forward(self, x):\n",
    "    out = self.conv1(x)\n",
    "    out = self.bn1(out)\n",
    "    out = self.relu(out)\n",
    "\n",
    "    out = self.conv2(out)\n",
    "    out = self.bn2(out)\n",
    "    out = self.relu(out)\n",
    "\n",
    "    out = self.conv3(out)\n",
    "    out = self.bn3(out)\n",
    "\n",
    "    identity = self.identity(x)\n",
    "    out += identity\n",
    "    out = self.relu(out)\n",
    "\n",
    "    return out"
   ]
  },
  {
   "cell_type": "code",
   "execution_count": null,
   "id": "4da6faf1",
   "metadata": {
    "lines_to_next_cell": 1
   },
   "outputs": [],
   "source": [
    "class ResNet(nn.Module):\n",
    "\n",
    "  def __init__(self, block, \n",
    "                     n_blocks, \n",
    "                     n_output_planes, \n",
    "                     n_classes):\n",
    "    super(ResNet, self).__init__()\n",
    "    assert len(n_blocks) == 4\n",
    "    assert len(n_output_planes) == 4\n",
    "    \n",
    "    self.n_in_planes = n_output_planes[0]\n",
    "\n",
    "    self.layer0 = nn.Sequential(\n",
    "      nn_ops.conv3x3(3, self.n_in_planes),\n",
    "      nn.BatchNorm2d(self.n_in_planes),\n",
    "      nn.ReLU(inplace=True)\n",
    "    )\n",
    "    self.layer1 = self._make_layer(block, n_blocks[0], n_output_planes[0])\n",
    "    self.layer2 = self._make_layer(block, n_blocks[1], n_output_planes[1], 2)\n",
    "    self.layer3 = self._make_layer(block, n_blocks[2], n_output_planes[2], 2)\n",
    "    self.layer4 = self._make_layer(block, n_blocks[3], n_output_planes[3], 2)\n",
    "    self.fc = nn.Linear(n_output_planes[3] * block.expansion, n_classes, False)\n",
    "\n",
    "    self.apply(nn_ops.variable_init)\n",
    "\n",
    "  def _make_layer(self, block, n_blocks, n_out_planes, stride=1):\n",
    "    layers = []\n",
    "    layers.append(block(self.n_in_planes, n_out_planes, stride))\n",
    "    self.n_in_planes = n_out_planes * block.expansion\n",
    "    for i in range(1, n_blocks):\n",
    "      layers.append(block(self.n_in_planes, n_out_planes))\n",
    "\n",
    "    return nn.Sequential(*layers)\n",
    "\n",
    "  def features(self, x):\n",
    "    x = self.layer0(x)\n",
    "    x = self.layer1(x)\n",
    "    x = self.layer2(x)\n",
    "    x = self.layer3(x)\n",
    "    x = self.layer4(x)\n",
    "    spatial_size = x.size(2)\n",
    "    x = nn.functional.avg_pool2d(x, spatial_size, 1)\n",
    "    x = x.view(x.size(0), -1)\n",
    "    return x\n",
    "\n",
    "  def forward(self, x):\n",
    "    x = self.features(x)\n",
    "    x = self.fc(x)\n",
    "    return x"
   ]
  },
  {
   "cell_type": "code",
   "execution_count": null,
   "id": "49f75ff6",
   "metadata": {
    "lines_to_next_cell": 1
   },
   "outputs": [],
   "source": [
    "def ResNet10(**kwargs):\n",
    "  return ResNet(BasicBlock, [1,1,1,1], **kwargs)"
   ]
  },
  {
   "cell_type": "code",
   "execution_count": null,
   "id": "edcc766d",
   "metadata": {
    "lines_to_next_cell": 1
   },
   "outputs": [],
   "source": [
    "def ResNet18(**kwargs):\n",
    "  return ResNet(BasicBlock, [2,2,2,2], **kwargs)"
   ]
  },
  {
   "cell_type": "code",
   "execution_count": null,
   "id": "a2386433",
   "metadata": {
    "lines_to_next_cell": 1
   },
   "outputs": [],
   "source": [
    "def ResNet34(**kwargs):\n",
    "  return ResNet(BasicBlock, [3,4,6,3], **kwargs)"
   ]
  },
  {
   "cell_type": "code",
   "execution_count": null,
   "id": "69a398a3",
   "metadata": {},
   "outputs": [],
   "source": [
    "def ResNet50(**kwargs):\n",
    "  return ResNet(Bottleneck, [3,4,6,3], **kwargs)"
   ]
  }
 ],
 "metadata": {
  "jupytext": {
   "cell_metadata_filter": "-all",
   "main_language": "python",
   "notebook_metadata_filter": "-all"
  }
 },
 "nbformat": 4,
 "nbformat_minor": 5
}
