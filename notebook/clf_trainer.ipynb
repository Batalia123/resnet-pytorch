{
 "cells": [
  {
   "cell_type": "code",
   "execution_count": null,
   "id": "534393bb",
   "metadata": {},
   "outputs": [],
   "source": [
    "from os.path import join\n",
    "import argparse\n",
    "import numpy as np\n",
    "from tqdm import tqdm, trange\n",
    "from scipy.io import savemat"
   ]
  },
  {
   "cell_type": "code",
   "execution_count": null,
   "id": "310ced7b",
   "metadata": {},
   "outputs": [],
   "source": [
    "import torch\n",
    "import torch.backends.cudnn as cudnn"
   ]
  },
  {
   "cell_type": "code",
   "execution_count": null,
   "id": "2c343f62",
   "metadata": {},
   "outputs": [],
   "source": [
    "import classifier\n",
    "import utils\n",
    "import config"
   ]
  },
  {
   "cell_type": "code",
   "execution_count": null,
   "id": "2060b04a",
   "metadata": {
    "lines_to_next_cell": 1
   },
   "outputs": [],
   "source": [
    "np.random.seed(67)\n",
    "torch.manual_seed(67)"
   ]
  },
  {
   "cell_type": "code",
   "execution_count": null,
   "id": "e92de98d",
   "metadata": {
    "lines_to_next_cell": 1
   },
   "outputs": [],
   "source": [
    "def main(args):\n",
    "  \n",
    "  train_loader, test_loader, n_classes = config.create_loaders(args)\n",
    "\n",
    "  clf = classifier.ConvNet(n_classes,\n",
    "                           args.init_lr,\n",
    "                           args.momentum,\n",
    "                           args.weight_decay,\n",
    "                           args.device,\n",
    "                           args.exp_dir,\n",
    "                           '',\n",
    "                           args.model,\n",
    "                           args.multi_gpu)\n",
    "  \n",
    "  test_accs = np.zeros([args.n_epochs], 'float32')\n",
    "  train_accs = np.zeros([args.n_epochs], 'float32')\n",
    "  train_losses = np.zeros([args.n_epochs], 'float32')\n",
    "  learning_rates = np.zeros([args.n_epochs], 'float32')    \n",
    "\n",
    "  if args.tensorboard:\n",
    "    from tensorboard_logger import log_value\n",
    "\n",
    "  try:\n",
    "    for epoch in trange(args.n_epochs, ncols=100):\n",
    "      # arrange the learning rate\n",
    "      lr = clf.adjust_learning_rate(epoch, args.lr_dec_rate, args.lr_dec_int)\n",
    "\n",
    "      ########## Classifier update ##########\n",
    "      train_loss, train_acc = clf.train_epoch(train_loader)\n",
    "\n",
    "      ########## Evaluation ##########\n",
    "      test_acc = clf.test(test_loader)\n",
    "\n",
    "      if args.tensorboard:\n",
    "        log_value('test_acc', test_acc, epoch)\n",
    "        log_value('train_acc', train_acc, epoch)\n",
    "        log_value('train_loss', train_loss, epoch)\n",
    "        log_value('learning_rate', lr, epoch)\n",
    "      else:\n",
    "        tqdm.write('train_acc:{:.1f}, test_acc{:.1f}'.format(\n",
    "          train_acc, test_acc))\n",
    "\n",
    "      test_accs[epoch] = test_acc\n",
    "      train_accs[epoch] = train_acc\n",
    "      train_losses[epoch] = train_loss\n",
    "      learning_rates[epoch] = lr\n",
    "\n",
    "      torch.save(\n",
    "        { 'epoch': epoch, 'clf': clf.net.state_dict() },\n",
    "        join(args.exp_dir, 'state_dict.ckpt'))\n",
    "\n",
    "  except KeyboardInterrupt:\n",
    "    print ('Early exit')\n",
    "    import ipdb; ipdb.set_trace()\n",
    "\n",
    "  savemat(\n",
    "    join(args.exp_dir, 'logs.mat'),\n",
    "    {'train_accs':train_accs, 'test_accs':test_accs, 'train_losses':train_losses, 'learning_rates': learning_rates})"
   ]
  },
  {
   "cell_type": "code",
   "execution_count": null,
   "id": "48376e0e",
   "metadata": {
    "lines_to_next_cell": 2
   },
   "outputs": [],
   "source": [
    "if __name__ == \"__main__\":\n",
    "  parser = argparse.ArgumentParser()\n",
    "  parser.add_argument('--exp_dir', type=str, default='./log')\n",
    "  parser.add_argument('--data_dir', type=str, default='./data')\n",
    "  parser.add_argument('--dataset', type=str, default='cifar10', \n",
    "    choices=['cifar10', 'cifar100'])\n",
    "  parser.add_argument('--model', type=str, default='resnet-10', \n",
    "    choices=['resnet-10', 'resnet-18', 'resnet-34', 'resnet-50'])\n",
    "  parser.add_argument('--device', type=str, default='cuda', \n",
    "    choices=['cpu', 'cuda'])\n",
    "  parser.add_argument('--multi_gpu', type=bool, default=True)\n",
    "  parser.add_argument('--init_lr', type=float, default=0.1)\n",
    "  parser.add_argument('--lr_dec_rate', type=float, default=0.1)\n",
    "  parser.add_argument('--lr_dec_int', type=int, default=100)\n",
    "  parser.add_argument('--weight_decay', type=float, default=5e-4)\n",
    "  parser.add_argument('--momentum', type=float, default=0.9 )\n",
    "  parser.add_argument('--tensorboard', type=bool, default=True)\n",
    "  parser.add_argument('--batch_size', type=int, default=128)\n",
    "  parser.add_argument('--test_batch_size', type=int, default=128)\n",
    "  parser.add_argument('--n_epochs', type=int, default=300)\n",
    "  FLAGS = parser.parse_args()\n",
    "  \n",
    "  if FLAGS.device == 'cuda' and torch.cuda.is_available():\n",
    "    cudnn.benchmark = True\n",
    "  else:\n",
    "    FLAGS.device = 'cpu'\n",
    "\n",
    "  utils.write_logs(FLAGS)\n",
    "  if FLAGS.tensorboard: \n",
    "    from tensorboard_logger import configure\n",
    "    configure(FLAGS.exp_dir)\n",
    "\n",
    "  main(FLAGS)"
   ]
  }
 ],
 "metadata": {
  "jupytext": {
   "cell_metadata_filter": "-all",
   "main_language": "python",
   "notebook_metadata_filter": "-all"
  }
 },
 "nbformat": 4,
 "nbformat_minor": 5
}
