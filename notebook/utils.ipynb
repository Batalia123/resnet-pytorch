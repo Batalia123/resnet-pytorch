{
 "cells": [
  {
   "cell_type": "code",
   "execution_count": null,
   "id": "62b7f377",
   "metadata": {
    "lines_to_next_cell": 1
   },
   "outputs": [],
   "source": [
    "from os.path import join\n",
    "from argparse import Namespace"
   ]
  },
  {
   "cell_type": "code",
   "execution_count": null,
   "id": "89c84301",
   "metadata": {
    "lines_to_next_cell": 1
   },
   "outputs": [],
   "source": [
    "def save_model_desc(model, path):\n",
    "  with open(path, 'w') as fid:\n",
    "    fid.write(str(model))"
   ]
  },
  {
   "cell_type": "code",
   "execution_count": null,
   "id": "1592a179",
   "metadata": {
    "lines_to_next_cell": 1
   },
   "outputs": [],
   "source": [
    "class AverageMeter(object):\n",
    "  def __init__(self):\n",
    "    self.reset()\n",
    "\n",
    "  def reset(self):\n",
    "    self.__sum = 0\n",
    "    self.__count = 0\n",
    "\n",
    "  def update(self, val, n=1):\n",
    "    self.__sum += val * n\n",
    "    self.__count += n\n",
    "\n",
    "  @property\n",
    "  def avg(self):\n",
    "    if self.__count == 0:\n",
    "      return 0.\n",
    "    return self.__sum / self.__count"
   ]
  },
  {
   "cell_type": "code",
   "execution_count": null,
   "id": "ca95ff16",
   "metadata": {
    "lines_to_next_cell": 2
   },
   "outputs": [],
   "source": [
    "def write_logs(FLAGS):\n",
    "  # save all setup into a log file\n",
    "  if isinstance(FLAGS, Namespace):\n",
    "    _dict = vars(FLAGS)\n",
    "    _list = sorted(_dict.keys())\n",
    "  else:\n",
    "    _dict = FLAGS.__flags\n",
    "    _list = sorted(_dict.keys())\n",
    "\n",
    "  fid_setup = open(join(FLAGS.exp_dir, 'setup.txt'), 'w')\n",
    "  for _k in _list:\n",
    "    fid_setup.write('%s: %s\\n' % (_k, _dict[_k]))\n",
    "  fid_setup.flush()\n",
    "  fid_setup.close()"
   ]
  }
 ],
 "metadata": {
  "jupytext": {
   "cell_metadata_filter": "-all",
   "main_language": "python",
   "notebook_metadata_filter": "-all"
  }
 },
 "nbformat": 4,
 "nbformat_minor": 5
}
